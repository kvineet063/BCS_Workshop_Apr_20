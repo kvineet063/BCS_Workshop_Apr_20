{
  "nbformat": 4,
  "nbformat_minor": 0,
  "metadata": {
    "colab": {
      "name": "ML_170798.ipynb",
      "provenance": [],
      "collapsed_sections": [
        "TMQs8VAJaiZc",
        "qH7ubidoNaEv"
      ]
    },
    "kernelspec": {
      "name": "python3",
      "display_name": "Python 3"
    },
    "accelerator": "GPU"
  },
  "cells": [
    {
      "cell_type": "markdown",
      "metadata": {
        "id": "xgTHW1jTc94u",
        "colab_type": "text"
      },
      "source": [
        "<table class=\"tfo-notebook-buttons\" align=\"left\">\n",
        "  <td>\n",
        "    <a target=\"_blank\" href=\"https://colab.research.google.com/github/bcs-iitk/BCS_Workshop_Apr_20/blob/master/Machine_Learning/Assignment/ML.ipynb\"><img src=\"https://www.tensorflow.org/images/colab_logo_32px.png\" />Run in Google Colab</a>\n",
        "  </td>\n",
        "  <td>\n",
        "    <a target=\"_blank\" href=\"https://github.com/bcs-iitk/BCS_Workshop_Apr_20/blob/master/Machine_Learning/Assignment/ML.ipynb\"><img src=\"https://www.tensorflow.org/images/GitHub-Mark-32px.png\" />View source on GitHub</a>\n",
        "  </td>\n",
        "  <td>\n",
        "    <a href=\"https://github.com/bcs-iitk/BCS_Workshop_Apr_20/raw/master/Machine_Learning/Assignment/ML.ipynb\"><img src=\"https://www.tensorflow.org/images/download_logo_32px.png\" />Download notebook</a>\n",
        "  </td>\n",
        "</table>"
      ]
    },
    {
      "cell_type": "code",
      "metadata": {
        "id": "BiU-x0ujcRkE",
        "colab_type": "code",
        "colab": {}
      },
      "source": [
        "# Copyright (c) 2020 Brain and Cognitive Society, IIT Kanpur [ BCS @IITK ]\n",
        "# Copyright under MIT License, must reference https://github.com/bcs-iitk/BCS_Workshop_Apr_20 if used anywhere else.\n",
        "# Author: Shashi Kant (http://shashikg.github.io/)"
      ],
      "execution_count": null,
      "outputs": []
    },
    {
      "cell_type": "markdown",
      "metadata": {
        "id": "-6GMP27JdNG2",
        "colab_type": "text"
      },
      "source": [
        "\n",
        "\n",
        "> Note: Do not forget to click on **Copy to Drive** in Google Colab to save a copy of this assignment.\n",
        "\n",
        "![copy2drive](https://github.com/bcs-iitk/BCS_Workshop_Apr_20/raw/master/Machine_Learning/Assignment/copy2drive.png)\n",
        "\n"
      ]
    },
    {
      "cell_type": "markdown",
      "metadata": {
        "id": "UWRTh7z2ZmM2",
        "colab_type": "text"
      },
      "source": [
        "# Assignment 1: Machine Learning\n"
      ]
    },
    {
      "cell_type": "markdown",
      "metadata": {
        "id": "UkJr6Lh9aIem",
        "colab_type": "text"
      },
      "source": [
        "## Question 1: Linear Regression\n",
        "To check whether you are able to build simple linear regression model from scratch or not."
      ]
    },
    {
      "cell_type": "code",
      "metadata": {
        "id": "wq1ZliSEuhTw",
        "colab_type": "code",
        "colab": {
          "base_uri": "https://localhost:8080/",
          "height": 615
        },
        "outputId": "acc3bcb7-c786-4b8d-eeff-856619b66827"
      },
      "source": [
        "import numpy as np\n",
        "import matplotlib.pyplot as plt\n",
        "\n",
        "!wget --no-check-certificate https://github.com/bcs-iitk/BCS_Workshop_Apr_20/raw/master/Machine_Learning/Assignment/X.npy -O X.npy\n",
        "!wget --no-check-certificate https://github.com/bcs-iitk/BCS_Workshop_Apr_20/raw/master/Machine_Learning/Assignment/y.npy -O y.npy"
      ],
      "execution_count": null,
      "outputs": [
        {
          "output_type": "stream",
          "text": [
            "--2020-04-05 16:54:21--  https://github.com/bcs-iitk/BCS_Workshop_Apr_20/raw/master/Machine_Learning/Assignment/X.npy\n",
            "Resolving github.com (github.com)... 140.82.118.3\n",
            "Connecting to github.com (github.com)|140.82.118.3|:443... connected.\n",
            "HTTP request sent, awaiting response... 302 Found\n",
            "Location: https://raw.githubusercontent.com/bcs-iitk/BCS_Workshop_Apr_20/master/Machine_Learning/Assignment/X.npy [following]\n",
            "--2020-04-05 16:54:21--  https://raw.githubusercontent.com/bcs-iitk/BCS_Workshop_Apr_20/master/Machine_Learning/Assignment/X.npy\n",
            "Resolving raw.githubusercontent.com (raw.githubusercontent.com)... 151.101.0.133, 151.101.64.133, 151.101.128.133, ...\n",
            "Connecting to raw.githubusercontent.com (raw.githubusercontent.com)|151.101.0.133|:443... connected.\n",
            "HTTP request sent, awaiting response... 200 OK\n",
            "Length: 528 [application/octet-stream]\n",
            "Saving to: ‘X.npy’\n",
            "\n",
            "\rX.npy                 0%[                    ]       0  --.-KB/s               \rX.npy               100%[===================>]     528  --.-KB/s    in 0s      \n",
            "\n",
            "2020-04-05 16:54:21 (95.5 MB/s) - ‘X.npy’ saved [528/528]\n",
            "\n",
            "--2020-04-05 16:54:27--  https://github.com/bcs-iitk/BCS_Workshop_Apr_20/raw/master/Machine_Learning/Assignment/y.npy\n",
            "Resolving github.com (github.com)... 140.82.118.3\n",
            "Connecting to github.com (github.com)|140.82.118.3|:443... connected.\n",
            "HTTP request sent, awaiting response... 302 Found\n",
            "Location: https://raw.githubusercontent.com/bcs-iitk/BCS_Workshop_Apr_20/master/Machine_Learning/Assignment/y.npy [following]\n",
            "--2020-04-05 16:54:27--  https://raw.githubusercontent.com/bcs-iitk/BCS_Workshop_Apr_20/master/Machine_Learning/Assignment/y.npy\n",
            "Resolving raw.githubusercontent.com (raw.githubusercontent.com)... 151.101.0.133, 151.101.64.133, 151.101.128.133, ...\n",
            "Connecting to raw.githubusercontent.com (raw.githubusercontent.com)|151.101.0.133|:443... connected.\n",
            "HTTP request sent, awaiting response... 200 OK\n",
            "Length: 528 [application/octet-stream]\n",
            "Saving to: ‘y.npy’\n",
            "\n",
            "y.npy               100%[===================>]     528  --.-KB/s    in 0s      \n",
            "\n",
            "2020-04-05 16:54:27 (81.9 MB/s) - ‘y.npy’ saved [528/528]\n",
            "\n"
          ],
          "name": "stdout"
        }
      ]
    },
    {
      "cell_type": "code",
      "metadata": {
        "id": "021fTYdwTkZm",
        "colab_type": "code",
        "colab": {}
      },
      "source": [
        "def load_data_LR():\n",
        "  # Implement this function to read the dataset using the path declared in path_X and path_y\n",
        "  # should return the X and y data\n",
        "  # use np.load() to load the data google it you will get to know how to do it\n",
        "  \n",
        "  path_X = \"X.npy\"\n",
        "  path_y = \"y.npy\"\n",
        "  \n",
        "  X = np.load(path_X)\n",
        "  y = np.load(path_y)\n",
        "  \n",
        "  return X, y\n"
      ],
      "execution_count": null,
      "outputs": []
    },
    {
      "cell_type": "code",
      "metadata": {
        "id": "Ngg3QUyTfBxC",
        "colab_type": "code",
        "colab": {}
      },
      "source": [
        "def get_linear_model(X, y):\n",
        "  # This shoudl return a proper linear model without bias of type y = XW\n",
        "\n",
        "  # Write your code here ----------\n",
        "  D = X.shape[1]\n",
        "  out_shape = y.shape[1]\n",
        "  \n",
        "  W = np.random.randn(D, out_shape)\n",
        "\n",
        "  return W\n",
        "  "
      ],
      "execution_count": null,
      "outputs": []
    },
    {
      "cell_type": "code",
      "metadata": {
        "id": "c52FIGu-hlzM",
        "colab_type": "code",
        "colab": {}
      },
      "source": [
        "def MSE(y, y_pred):\n",
        "  # should return the mean square error between the actual y and predicted y\n",
        "\n",
        "  error = (np.square(y - y_pred).sum())/len(y)\n",
        "\n",
        "  return error"
      ],
      "execution_count": null,
      "outputs": []
    },
    {
      "cell_type": "code",
      "metadata": {
        "id": "zrBrqA15hCdT",
        "colab_type": "code",
        "colab": {}
      },
      "source": [
        "def train_by_algebra(X, y):\n",
        "  # should return the trained weight 'W' using the linear algebra method i.e. setting dE/dW = 0\n",
        "  xtxinv = np.matrix(np.dot((X.T),X)).I\n",
        "  xty = np.dot(X.T,y) \n",
        "  W = np.dot(xtxinv,xty)\n",
        "  return W\n",
        "  "
      ],
      "execution_count": null,
      "outputs": []
    },
    {
      "cell_type": "code",
      "metadata": {
        "id": "kJ_r_R1PixX2",
        "colab_type": "code",
        "colab": {}
      },
      "source": [
        "def train_by_GD(X, y, epochs=5, lr=0.001):\n",
        "  # should return the trained weight 'W' using the gradient descent for number of iterations equals to epochs\n",
        "  # should also return error history int the cariable error_hist.shape = (epochs,); error_hist[i] = mean square error after epoch i-1\n",
        "  # should also print mean square error after each epoch/ iteration\n",
        "  # lr = \"learning rate\" i.e. eta\n",
        "  error_hist = np.zeros(epochs)\n",
        "  W = get_linear_model(X, y)\n",
        "  y_pred = X*W\n",
        "  \n",
        "  for i in range(epochs):\n",
        "    W = W + lr*(np.dot(X.T,(y-X*W)))\n",
        "    y_pred = X*W\n",
        "    error_hist[i] =  MSE(y, y_pred)\n",
        "    \n",
        "  return W,error_hist\n"
      ],
      "execution_count": null,
      "outputs": []
    },
    {
      "cell_type": "markdown",
      "metadata": {
        "id": "uLTxFIOgkdjJ",
        "colab_type": "text"
      },
      "source": [
        "### Now write a complete code using the function defined above to learn the model for following cases:"
      ]
    },
    {
      "cell_type": "markdown",
      "metadata": {
        "id": "eYW1AukM378a",
        "colab_type": "text"
      },
      "source": [
        "##### Learn **W** using linear algebra method and prints mean square error between actual y and predicted y. Use `y_pred = XW`"
      ]
    },
    {
      "cell_type": "code",
      "metadata": {
        "id": "AIRs0jB-kOZU",
        "colab_type": "code",
        "colab": {
          "base_uri": "https://localhost:8080/",
          "height": 36
        },
        "outputId": "5924bb8c-4f81-46aa-f657-c51a6c9aba8c"
      },
      "source": [
        "# Write your code here ----------\n",
        "X,y = load_data_LR()  \n",
        "W = train_by_algebra(X, y)\n",
        "y_pred = X*W\n",
        "print(MSE(y, y_pred))"
      ],
      "execution_count": null,
      "outputs": [
        {
          "output_type": "stream",
          "text": [
            "5.49005982064382\n"
          ],
          "name": "stdout"
        }
      ]
    },
    {
      "cell_type": "markdown",
      "metadata": {
        "id": "6kP77_sK4CpT",
        "colab_type": "text"
      },
      "source": [
        "##### Learn **W** using gradient descent method for following learning rates, `lr = [10, 1, 0.1, 0.01, 0.001]` for **10 epochs**. Plot **MSE vs epochs** for each of them."
      ]
    },
    {
      "cell_type": "code",
      "metadata": {
        "id": "1bac27RT4G2H",
        "colab_type": "code",
        "colab": {
          "base_uri": "https://localhost:8080/",
          "height": 851
        },
        "outputId": "ead84fb3-6a53-4905-b84e-9d929f046c8b"
      },
      "source": [
        "# Write your code here ----------\n",
        "lr = [0.1,0.01,0.001]\n",
        "for i in lr:\n",
        "  X,y = load_data_LR()\n",
        "  w,error_history = train_by_GD(X, y, epochs=10, lr= i )\n",
        "  Y = [*range(1,11)]\n",
        "  plt.figure()\n",
        "  plt.plot(Y,error_history)\n",
        "  plt.xlabel('Epochs')\n",
        "  plt.ylabel('MSE')\n",
        "  plt.title('lr ={}'.format(i))"
      ],
      "execution_count": null,
      "outputs": [
        {
          "output_type": "display_data",
          "data": {
            "image/png": "[encoded data removed]",
            "text/plain": [
              "<Figure size 432x288 with 1 Axes>"
            ]
          },
          "metadata": {
            "tags": []
          }
        },
        {
          "output_type": "display_data",
          "data": {
            "image/png": "[encoded data removed]",
            "text/plain": [
              "<Figure size 432x288 with 1 Axes>"
            ]
          },
          "metadata": {
            "tags": []
          }
        },
        {
          "output_type": "display_data",
          "data": {
            "image/png": "[encoded data removed]",
            "text/plain": [
              "<Figure size 432x288 with 1 Axes>"
            ]
          },
          "metadata": {
            "tags": []
          }
        }
      ]
    },
    {
      "cell_type": "markdown",
      "metadata": {
        "id": "4zJO-LIvn6sD",
        "colab_type": "text"
      },
      "source": [
        "## Question 2: Image Classification in Tensorflow using Deep Learning\n",
        "To check whether you are able to build a given neural network model in tensorflow or not. First we will build a fully connected NN model second we will build a CNN model."
      ]
    },
    {
      "cell_type": "code",
      "metadata": {
        "id": "7mynGfqRn24b",
        "colab_type": "code",
        "colab": {}
      },
      "source": [
        "import numpy as np\n",
        "import tensorflow as tf\n",
        "from tensorflow.keras.models import Sequential\n",
        "from tensorflow.keras.layers import Dense, Flatten, Activation,MaxPooling2D,Conv2D\n",
        "import matplotlib.pyplot as plt"
      ],
      "execution_count": null,
      "outputs": []
    },
    {
      "cell_type": "code",
      "metadata": {
        "id": "s8WKt-qY4agV",
        "colab_type": "code",
        "colab": {}
      },
      "source": [
        "def plot_history(history):\n",
        "  # function to plot accuracy vs epoch\n",
        "\n",
        "  plt.plot(history.history['accuracy'], label='accuracy')\n",
        "  plt.plot(history.history['val_accuracy'], label = 'val_accuracy')\n",
        "  plt.xlabel('Epoch')\n",
        "  plt.ylabel('Accuracy')\n",
        "  plt.legend(loc='lower right')"
      ],
      "execution_count": null,
      "outputs": []
    },
    {
      "cell_type": "code",
      "metadata": {
        "id": "tCT9Kmhhn5I_",
        "colab_type": "code",
        "colab": {}
      },
      "source": [
        "def load_data_cifar10_norm():\n",
        "  # should return the normalised cifar10 dataset by loading it from tensorflow\n",
        "  # link: https://www.tensorflow.org/api_docs/python/tf/keras/datasets/cifar10/\n",
        "  cifar = tf.keras.datasets.cifar10\n",
        "  (x_train, y_train), (x_test, y_test) = cifar.load_data()\n",
        "  x_train,x_test = x_train/255.0,x_test/255.0\n",
        "  return x_train, y_train, x_test, y_test\n",
        " "
      ],
      "execution_count": null,
      "outputs": []
    },
    {
      "cell_type": "markdown",
      "metadata": {
        "id": "LDpHSTRPvS9t",
        "colab_type": "text"
      },
      "source": [
        "### Define a fully connected neural network model with following attributes:\n",
        "\n",
        "*   Total number of **hidden layers = 4**, all with **relu** activation\n",
        "*   Number of neurons in **first hidden layer = 7200**\n",
        "*   Number of neurons in **second hidden layer = 2304**\n",
        "*   Number of neurons in **third hidden layer = 1024**\n",
        "*   Number of neurons in **fourth hidden layer = 64**\n"
      ]
    },
    {
      "cell_type": "code",
      "metadata": {
        "id": "VYYQzIWnqU3t",
        "colab_type": "code",
        "colab": {}
      },
      "source": [
        "def build_fc_model(input_shape=(32, 32, 3), num_class=10):\n",
        "  \n",
        "  model = Sequential()\n",
        "\n",
        "  model.add(Flatten(input_shape=input_shape))\n",
        "\n",
        "  model.add(Dense(7200))\n",
        "  model.add(Activation('relu'))\n",
        "    \n",
        "  model.add(Dense(2304))\n",
        "  model.add(Activation('relu'))\n",
        "    \n",
        "  model.add(Dense(1024))\n",
        "  model.add(Activation('relu'))\n",
        "    \n",
        "  model.add(Dense(64))\n",
        "  model.add(Activation('relu'))\n",
        "  model.add(Dense(num_class, activation='softmax'))\n",
        "  return model"
      ],
      "execution_count": null,
      "outputs": []
    },
    {
      "cell_type": "markdown",
      "metadata": {
        "id": "pdcQ2yqz1RYH",
        "colab_type": "text"
      },
      "source": [
        "### Define a CNN model with following attribute:\n",
        "\n",
        "*   Total number of **hidden layer = 4**\n",
        "*   After every convolutional layer there must be a MaxPoolingLayer of size (2, 2)\n",
        "*   Total number of convolutional layer = 3, all with **relu** activation.\n",
        "    *    Number of filters in **first convolutional layer = 32**\n",
        "    *    Number of filters in **second convolutional layer = 64**\n",
        "    *    Number of filters in **third convolutional layer = 64**\n",
        "*   After all convolutional layer flatten the output and use **dense layer of 64 neurons**\n",
        "\n"
      ]
    },
    {
      "cell_type": "code",
      "metadata": {
        "id": "T00AYU3D3L1j",
        "colab_type": "code",
        "colab": {}
      },
      "source": [
        "def build_cnn_model(input_shape=(32, 32, 3), num_class=10):\n",
        "  # should return a sequential model defined based on the above attributes\n",
        "  # do not compile the model\n",
        "\n",
        "  model = tf.keras.models.Sequential([\n",
        "     tf.keras.layers.Conv2D(32,(3,3),activation = 'relu',input_shape=input_shape),\n",
        "     tf.keras.layers.MaxPooling2D(2,2),\n",
        "\n",
        "     tf.keras.layers.Conv2D(64,(3,3),activation = 'relu',input_shape=input_shape),\n",
        "     tf.keras.layers.MaxPooling2D(2,2), \n",
        "     tf.keras.layers.Conv2D(64,(3,3),activation = 'relu',input_shape=input_shape),\n",
        "     tf.keras.layers.MaxPooling2D(2,2),                             \n",
        "  ])\n",
        "  model.add(Flatten())\n",
        "  model.add(Dense(64, activation='relu'))\n",
        "\n",
        "  model.add(Dense(num_class,activation = 'softmax'))\n",
        "  return model"
      ],
      "execution_count": null,
      "outputs": []
    },
    {
      "cell_type": "markdown",
      "metadata": {
        "id": "7SXXUeRp4Urq",
        "colab_type": "text"
      },
      "source": [
        "### Compile and train the fully connected neural network model using the above functions."
      ]
    },
    {
      "cell_type": "code",
      "metadata": {
        "id": "61_XiEUR3eV0",
        "colab_type": "code",
        "colab": {
          "base_uri": "https://localhost:8080/",
          "height": 1000
        },
        "outputId": "5fb3972e-df08-45c7-907a-95a61b5fc02e"
      },
      "source": [
        " model = build_fc_model(input_shape=(32, 32, 3), num_class=10)\n",
        " model.compile(loss=tf.keras.losses.sparse_categorical_crossentropy,\n",
        "                  optimizer='sgd',\n",
        "                  metrics=['accuracy'])\n",
        "    \n",
        "x_train, y_train, x_test, y_test =load_data_cifar10_norm()\n",
        "history = model.fit(x_train, y_train, epochs=10, batch_size=512,\n",
        "                    validation_data=(x_test, y_test))\n",
        "\n",
        "plot_history(history)\n",
        "model.summary()"
      ],
      "execution_count": null,
      "outputs": [
        {
          "output_type": "stream",
          "text": [
            "Downloading data from https://www.cs.toronto.edu/~kriz/cifar-10-python.tar.gz\n",
            "170500096/170498071 [==============================] - 6s 0us/step\n",
            "Epoch 1/10\n",
            "98/98 [==============================] - 2s 25ms/step - loss: 2.0595 - accuracy: 0.2636 - val_loss: 1.9320 - val_accuracy: 0.3147\n",
            "Epoch 2/10\n",
            "98/98 [==============================] - 2s 23ms/step - loss: 1.8978 - accuracy: 0.3322 - val_loss: 1.8312 - val_accuracy: 0.3568\n",
            "Epoch 3/10\n",
            "98/98 [==============================] - 2s 24ms/step - loss: 1.8272 - accuracy: 0.3583 - val_loss: 1.8488 - val_accuracy: 0.3475\n",
            "Epoch 4/10\n",
            "98/98 [==============================] - 2s 23ms/step - loss: 1.7834 - accuracy: 0.3740 - val_loss: 1.7711 - val_accuracy: 0.3838\n",
            "Epoch 5/10\n",
            "98/98 [==============================] - 2s 23ms/step - loss: 1.7393 - accuracy: 0.3913 - val_loss: 1.7592 - val_accuracy: 0.3819\n",
            "Epoch 6/10\n",
            "98/98 [==============================] - 2s 23ms/step - loss: 1.7143 - accuracy: 0.3999 - val_loss: 1.7185 - val_accuracy: 0.3991\n",
            "Epoch 7/10\n",
            "98/98 [==============================] - 2s 23ms/step - loss: 1.6789 - accuracy: 0.4142 - val_loss: 1.7016 - val_accuracy: 0.4012\n",
            "Epoch 8/10\n",
            "98/98 [==============================] - 2s 23ms/step - loss: 1.6646 - accuracy: 0.4183 - val_loss: 1.6751 - val_accuracy: 0.4153\n",
            "Epoch 9/10\n",
            "98/98 [==============================] - 2s 23ms/step - loss: 1.6460 - accuracy: 0.4246 - val_loss: 1.6208 - val_accuracy: 0.4346\n",
            "Epoch 10/10\n",
            "98/98 [==============================] - 2s 23ms/step - loss: 1.6223 - accuracy: 0.4315 - val_loss: 1.5984 - val_accuracy: 0.4383\n",
            "Model: \"sequential\"\n",
            "_________________________________________________________________\n",
            "Layer (type)                 Output Shape              Param #   \n",
            "=================================================================\n",
            "flatten (Flatten)            (None, 3072)              0         \n",
            "_________________________________________________________________\n",
            "dense (Dense)                (None, 7200)              22125600  \n",
            "_________________________________________________________________\n",
            "activation (Activation)      (None, 7200)              0         \n",
            "_________________________________________________________________\n",
            "dense_1 (Dense)              (None, 2304)              16591104  \n",
            "_________________________________________________________________\n",
            "activation_1 (Activation)    (None, 2304)              0         \n",
            "_________________________________________________________________\n",
            "dense_2 (Dense)              (None, 1024)              2360320   \n",
            "_________________________________________________________________\n",
            "activation_2 (Activation)    (None, 1024)              0         \n",
            "_________________________________________________________________\n",
            "dense_3 (Dense)              (None, 64)                65600     \n",
            "_________________________________________________________________\n",
            "activation_3 (Activation)    (None, 64)                0         \n",
            "_________________________________________________________________\n",
            "dense_4 (Dense)              (None, 10)                650       \n",
            "=================================================================\n",
            "Total params: 41,143,274\n",
            "Trainable params: 41,143,274\n",
            "Non-trainable params: 0\n",
            "_________________________________________________________________\n"
          ],
          "name": "stdout"
        },
        {
          "output_type": "display_data",
          "data": {
            "image/png": "[encoded data removed]",
            "text/plain": [
              "<Figure size 432x288 with 1 Axes>"
            ]
          },
          "metadata": {
            "tags": []
          }
        }
      ]
    },
    {
      "cell_type": "markdown",
      "metadata": {
        "id": "Z_yHXGc47ENb",
        "colab_type": "text"
      },
      "source": [
        "### Compile and train the CNN model using the above functions."
      ]
    },
    {
      "cell_type": "code",
      "metadata": {
        "id": "aM9rueu97Gnq",
        "colab_type": "code",
        "colab": {
          "base_uri": "https://localhost:8080/",
          "height": 1000
        },
        "outputId": "6d6fd69b-bc39-43af-f517-099caf7cdf2e"
      },
      "source": [
        "model = build_cnn_model(input_shape=(32, 32, 3), num_class=10)\n",
        "model.compile(loss = tf.keras.losses.sparse_categorical_crossentropy,\n",
        "              optimizer='Adam',metrics=['accuracy'])\n",
        "x_train, y_train, x_test, y_test = load_data_cifar10_norm()\n",
        "\n",
        "history = model.fit(x_train, y_train, epochs=10, batch_size=512,\n",
        "                    validation_data=(x_test, y_test))\n",
        "\n",
        "plot_history(history)\n",
        "model.summary()"
      ],
      "execution_count": null,
      "outputs": [
        {
          "output_type": "stream",
          "text": [
            "Epoch 1/10\n",
            "98/98 [==============================] - 1s 14ms/step - loss: 1.9555 - accuracy: 0.2835 - val_loss: 1.6981 - val_accuracy: 0.3847\n",
            "Epoch 2/10\n",
            "98/98 [==============================] - 1s 12ms/step - loss: 1.5925 - accuracy: 0.4182 - val_loss: 1.5294 - val_accuracy: 0.4424\n",
            "Epoch 3/10\n",
            "98/98 [==============================] - 1s 12ms/step - loss: 1.4434 - accuracy: 0.4794 - val_loss: 1.4142 - val_accuracy: 0.4960\n",
            "Epoch 4/10\n",
            "98/98 [==============================] - 1s 12ms/step - loss: 1.3622 - accuracy: 0.5109 - val_loss: 1.3502 - val_accuracy: 0.5208\n",
            "Epoch 5/10\n",
            "98/98 [==============================] - 1s 12ms/step - loss: 1.2808 - accuracy: 0.5442 - val_loss: 1.2783 - val_accuracy: 0.5449\n",
            "Epoch 6/10\n",
            "98/98 [==============================] - 1s 12ms/step - loss: 1.2341 - accuracy: 0.5607 - val_loss: 1.2093 - val_accuracy: 0.5691\n",
            "Epoch 7/10\n",
            "98/98 [==============================] - 1s 12ms/step - loss: 1.1917 - accuracy: 0.5806 - val_loss: 1.2488 - val_accuracy: 0.5598\n",
            "Epoch 8/10\n",
            "98/98 [==============================] - 1s 12ms/step - loss: 1.1503 - accuracy: 0.5945 - val_loss: 1.1668 - val_accuracy: 0.5867\n",
            "Epoch 9/10\n",
            "98/98 [==============================] - 1s 12ms/step - loss: 1.1092 - accuracy: 0.6100 - val_loss: 1.1518 - val_accuracy: 0.5989\n",
            "Epoch 10/10\n",
            "98/98 [==============================] - 1s 12ms/step - loss: 1.0773 - accuracy: 0.6216 - val_loss: 1.1110 - val_accuracy: 0.6095\n",
            "Model: \"sequential_1\"\n",
            "_________________________________________________________________\n",
            "Layer (type)                 Output Shape              Param #   \n",
            "=================================================================\n",
            "conv2d (Conv2D)              (None, 30, 30, 32)        896       \n",
            "_________________________________________________________________\n",
            "max_pooling2d (MaxPooling2D) (None, 15, 15, 32)        0         \n",
            "_________________________________________________________________\n",
            "conv2d_1 (Conv2D)            (None, 13, 13, 64)        18496     \n",
            "_________________________________________________________________\n",
            "max_pooling2d_1 (MaxPooling2 (None, 6, 6, 64)          0         \n",
            "_________________________________________________________________\n",
            "conv2d_2 (Conv2D)            (None, 4, 4, 64)          36928     \n",
            "_________________________________________________________________\n",
            "max_pooling2d_2 (MaxPooling2 (None, 2, 2, 64)          0         \n",
            "_________________________________________________________________\n",
            "flatten_1 (Flatten)          (None, 256)               0         \n",
            "_________________________________________________________________\n",
            "dense_5 (Dense)              (None, 64)                16448     \n",
            "_________________________________________________________________\n",
            "dense_6 (Dense)              (None, 10)                650       \n",
            "=================================================================\n",
            "Total params: 73,418\n",
            "Trainable params: 73,418\n",
            "Non-trainable params: 0\n",
            "_________________________________________________________________\n"
          ],
          "name": "stdout"
        },
        {
          "output_type": "display_data",
          "data": {
            "image/png": "[encoded data removed]",
            "text/plain": [
              "<Figure size 432x288 with 1 Axes>"
            ]
          },
          "metadata": {
            "tags": []
          }
        }
      ]
    },
    {
      "cell_type": "markdown",
      "metadata": {
        "id": "nKwrtPcy750Q",
        "colab_type": "text"
      },
      "source": [
        "### What do you observe? Compare both the model by looking at their Accuracy vs Epoch plot and total numbers of trainable parameters."
      ]
    },
    {
      "cell_type": "code",
      "metadata": {
        "id": "Q2lFRCoL8N_b",
        "colab_type": "code",
        "colab": {
          "base_uri": "https://localhost:8080/",
          "height": 36
        },
        "outputId": "9e976413-11c8-41d4-d0e2-04cf61cfb217"
      },
      "source": [
        "print(\"CNN has better accuracy and val_accuracy\")"
      ],
      "execution_count": null,
      "outputs": [
        {
          "output_type": "stream",
          "text": [
            "CNN has better accuracy and val_accuracy\n"
          ],
          "name": "stdout"
        }
      ]
    },
    {
      "cell_type": "markdown",
      "metadata": {
        "id": "NlX1GE9f84dN",
        "colab_type": "text"
      },
      "source": [
        "## Question 3: Image Classification in Tensorflow using Transfer Learning\n",
        "In this we will again try to learn a classification model for **cifar10** but by using the concept of transfer learning. "
      ]
    },
    {
      "cell_type": "markdown",
      "metadata": {
        "id": "TMQs8VAJaiZc",
        "colab_type": "text"
      },
      "source": [
        "### Brief description on Transfer Learning:"
      ]
    },
    {
      "cell_type": "markdown",
      "metadata": {
        "id": "velsoC8-KP6B",
        "colab_type": "text"
      },
      "source": [
        "The idea behind transfer learning for image classification is that when you train a model on a very large image dataset like ImageNet, then this model can effectivly serve as generic model of visual world. If you remember, a closer look at every CNN model gives you an idea that every CNN model used to have some sets of convolutional layers followed by a dense layer and finally at last a classification (output) layer. So, here the convolutional layer somewhat act as feature mapping function which maps the input image to an different dimensional space. And finally at the end you apply dense layer to classify the images based on those extracted features. <br>\n",
        "\n",
        "**Inshort this what you do in a CNN model:**\n",
        "![](https://github.com/bcs-iitk/BCS_Workshop_Apr_20/raw/master/Machine_Learning/Assignment/cnn_model.png)\n",
        "\n",
        "So what we will do in transfer learning is that we will use some already pre-trained model which are trained on ImageNet dataset. Will only use its learned convolutional layers as a feature mapping function. And finally will learn a fully connected neural network on those features to classify the images.\n"
      ]
    },
    {
      "cell_type": "markdown",
      "metadata": {
        "id": "203W4I0oMs5v",
        "colab_type": "text"
      },
      "source": [
        "### Attributes of Transfer Learning model to be build\n",
        "\n",
        "*   Pre-trained weights of VGG16 will be used as feature extracter\n",
        "*   After this flatten the output and use dense layer of **64 neurons**\n",
        "\n"
      ]
    },
    {
      "cell_type": "code",
      "metadata": {
        "id": "COUcSjSz9DtQ",
        "colab_type": "code",
        "colab": {}
      },
      "source": [
        "import numpy as np\n",
        "import tensorflow as tf\n",
        "import matplotlib.pyplot as plt\n",
        "from tensorflow.keras.applications.vgg16 import preprocess_input, VGG16"
      ],
      "execution_count": null,
      "outputs": []
    },
    {
      "cell_type": "code",
      "metadata": {
        "id": "ylCRV_niMhxA",
        "colab_type": "code",
        "colab": {}
      },
      "source": [
        "def plot_history(history):\n",
        "  # function to plot accuracy vs epoch\n",
        "  plt.figure()\n",
        "  plt.plot(history.history['accuracy'], label='accuracy')\n",
        "  plt.plot(history.history['val_accuracy'], label = 'val_accuracy')\n",
        "  plt.xlabel('Epoch')\n",
        "  plt.ylabel('Accuracy')\n",
        "  plt.legend(loc='lower right')"
      ],
      "execution_count": null,
      "outputs": []
    },
    {
      "cell_type": "code",
      "metadata": {
        "id": "ijdwptetMmSL",
        "colab_type": "code",
        "colab": {}
      },
      "source": [
        "def load_data_cifar10():\n",
        "  # should return the normalised cifar10 dataset by loading it from tensorflow\n",
        "  # link: https://www.tensorflow.org/api_docs/python/tf/keras/datasets/cifar10/\n",
        "  cifar = tf.keras.datasets.cifar10\n",
        "  (x_train, y_train), (x_test, y_test) = cifar.load_data()\n",
        "  x_train,x_test = x_train/255.0,x_test/255.0\n",
        "\n",
        "  return preprocess_input(x_train), y_train, preprocess_input(x_test), y_test"
      ],
      "execution_count": null,
      "outputs": []
    },
    {
      "cell_type": "code",
      "metadata": {
        "id": "8kgkpJfwKhlR",
        "colab_type": "code",
        "colab": {}
      },
      "source": [
        "def build_tl_model(num_class=10):\n",
        "  # should return the ccombined model using the VGG16 conv layers as conv layers\n",
        "  # and for fully connected layer part use the above attributes.\n",
        "\n",
        "  base_model = VGG16(input_shape=(32, 32, 3), include_top=False, weights='imagenet') # this is the conv layers from VGG16\n",
        "  base_model.trainable = False # this ensures that while training the dense layers these weights don't get changed\n",
        "\n",
        "  model = tf.keras.models.Sequential([\n",
        "    # Feature extractor \n",
        "    base_model,\n",
        "    tf.keras.layers.Flatten(),\n",
        "    tf.keras.layers(Dense(num_class,activation='softmax'))\n",
        "    # Flatten and use the attribute given the question to build the dense part\n",
        "    \n",
        "  ])\n",
        "  \n",
        "  return model"
      ],
      "execution_count": null,
      "outputs": []
    },
    {
      "cell_type": "markdown",
      "metadata": {
        "id": "_-2kUilyPNJJ",
        "colab_type": "text"
      },
      "source": [
        "### Compile and train the model using above functions, use adam optimiser with learning rate = 0.001 and 0.0001\n",
        "\n"
      ]
    },
    {
      "cell_type": "code",
      "metadata": {
        "id": "6FzIIP7GPMOt",
        "colab_type": "code",
        "colab": {
          "base_uri": "https://localhost:8080/",
          "height": 1000
        },
        "outputId": "489f8e7a-fd4a-4b81-b20e-ad156e399f0c"
      },
      "source": [
        "for i in [0.001,0.0001]:\n",
        "\n",
        "  model.compile(optimizer = tf.keras.optimizers.Adam(learning_rate = i),loss = 'sparse_categorical_crossentropy',metrics = ['accuracy'])\n",
        "  history = model.fit(x_train, y_train, epochs=10, batch_size=512,\n",
        "                    validation_data=(x_test, y_test))\n",
        "  plt.figure()\n",
        "  plot_history(history)\n",
        "  model.summary()"
      ],
      "execution_count": null,
      "outputs": [
        {
          "output_type": "stream",
          "text": [
            "Epoch 1/10\n",
            "98/98 [==============================] - 1s 15ms/step - loss: 1.1047 - accuracy: 0.6161 - val_loss: 1.1029 - val_accuracy: 0.6159\n",
            "Epoch 2/10\n",
            "98/98 [==============================] - 1s 12ms/step - loss: 1.0369 - accuracy: 0.6381 - val_loss: 1.0742 - val_accuracy: 0.6226\n",
            "Epoch 3/10\n",
            "98/98 [==============================] - 1s 12ms/step - loss: 1.0217 - accuracy: 0.6452 - val_loss: 1.0598 - val_accuracy: 0.6317\n",
            "Epoch 4/10\n",
            "98/98 [==============================] - 1s 12ms/step - loss: 1.0019 - accuracy: 0.6525 - val_loss: 1.0757 - val_accuracy: 0.6241\n",
            "Epoch 5/10\n",
            "98/98 [==============================] - 1s 12ms/step - loss: 0.9783 - accuracy: 0.6606 - val_loss: 1.0311 - val_accuracy: 0.6411\n",
            "Epoch 6/10\n",
            "98/98 [==============================] - 1s 12ms/step - loss: 0.9577 - accuracy: 0.6690 - val_loss: 1.0212 - val_accuracy: 0.6455\n",
            "Epoch 7/10\n",
            "98/98 [==============================] - 1s 12ms/step - loss: 0.9460 - accuracy: 0.6733 - val_loss: 1.0170 - val_accuracy: 0.6462\n",
            "Epoch 8/10\n",
            "98/98 [==============================] - 1s 12ms/step - loss: 0.9236 - accuracy: 0.6793 - val_loss: 1.0243 - val_accuracy: 0.6435\n",
            "Epoch 9/10\n",
            "98/98 [==============================] - 1s 12ms/step - loss: 0.9191 - accuracy: 0.6824 - val_loss: 1.0357 - val_accuracy: 0.6491\n",
            "Epoch 10/10\n",
            "98/98 [==============================] - 1s 12ms/step - loss: 0.9045 - accuracy: 0.6874 - val_loss: 0.9976 - val_accuracy: 0.6541\n",
            "Model: \"sequential_1\"\n",
            "_________________________________________________________________\n",
            "Layer (type)                 Output Shape              Param #   \n",
            "=================================================================\n",
            "conv2d (Conv2D)              (None, 30, 30, 32)        896       \n",
            "_________________________________________________________________\n",
            "max_pooling2d (MaxPooling2D) (None, 15, 15, 32)        0         \n",
            "_________________________________________________________________\n",
            "conv2d_1 (Conv2D)            (None, 13, 13, 64)        18496     \n",
            "_________________________________________________________________\n",
            "max_pooling2d_1 (MaxPooling2 (None, 6, 6, 64)          0         \n",
            "_________________________________________________________________\n",
            "conv2d_2 (Conv2D)            (None, 4, 4, 64)          36928     \n",
            "_________________________________________________________________\n",
            "max_pooling2d_2 (MaxPooling2 (None, 2, 2, 64)          0         \n",
            "_________________________________________________________________\n",
            "flatten_1 (Flatten)          (None, 256)               0         \n",
            "_________________________________________________________________\n",
            "dense_5 (Dense)              (None, 64)                16448     \n",
            "_________________________________________________________________\n",
            "dense_6 (Dense)              (None, 10)                650       \n",
            "=================================================================\n",
            "Total params: 73,418\n",
            "Trainable params: 73,418\n",
            "Non-trainable params: 0\n",
            "_________________________________________________________________\n",
            "Epoch 1/10\n",
            "98/98 [==============================] - 1s 13ms/step - loss: 0.8502 - accuracy: 0.7094 - val_loss: 0.9586 - val_accuracy: 0.6711\n",
            "Epoch 2/10\n",
            "98/98 [==============================] - 1s 12ms/step - loss: 0.8450 - accuracy: 0.7101 - val_loss: 0.9617 - val_accuracy: 0.6704\n",
            "Epoch 3/10\n",
            "98/98 [==============================] - 1s 12ms/step - loss: 0.8403 - accuracy: 0.7128 - val_loss: 0.9530 - val_accuracy: 0.6733\n",
            "Epoch 4/10\n",
            "98/98 [==============================] - 1s 12ms/step - loss: 0.8379 - accuracy: 0.7125 - val_loss: 0.9528 - val_accuracy: 0.6731\n",
            "Epoch 5/10\n",
            "98/98 [==============================] - 1s 12ms/step - loss: 0.8347 - accuracy: 0.7140 - val_loss: 0.9526 - val_accuracy: 0.6739\n",
            "Epoch 6/10\n",
            "98/98 [==============================] - 1s 12ms/step - loss: 0.8334 - accuracy: 0.7145 - val_loss: 0.9596 - val_accuracy: 0.6731\n",
            "Epoch 7/10\n",
            "98/98 [==============================] - 1s 12ms/step - loss: 0.8311 - accuracy: 0.7159 - val_loss: 0.9526 - val_accuracy: 0.6738\n",
            "Epoch 8/10\n",
            "98/98 [==============================] - 1s 12ms/step - loss: 0.8279 - accuracy: 0.7170 - val_loss: 0.9490 - val_accuracy: 0.6740\n",
            "Epoch 9/10\n",
            "98/98 [==============================] - 1s 12ms/step - loss: 0.8257 - accuracy: 0.7164 - val_loss: 0.9519 - val_accuracy: 0.6737\n",
            "Epoch 10/10\n",
            "98/98 [==============================] - 1s 12ms/step - loss: 0.8216 - accuracy: 0.7179 - val_loss: 0.9478 - val_accuracy: 0.6758\n",
            "Model: \"sequential_1\"\n",
            "_________________________________________________________________\n",
            "Layer (type)                 Output Shape              Param #   \n",
            "=================================================================\n",
            "conv2d (Conv2D)              (None, 30, 30, 32)        896       \n",
            "_________________________________________________________________\n",
            "max_pooling2d (MaxPooling2D) (None, 15, 15, 32)        0         \n",
            "_________________________________________________________________\n",
            "conv2d_1 (Conv2D)            (None, 13, 13, 64)        18496     \n",
            "_________________________________________________________________\n",
            "max_pooling2d_1 (MaxPooling2 (None, 6, 6, 64)          0         \n",
            "_________________________________________________________________\n",
            "conv2d_2 (Conv2D)            (None, 4, 4, 64)          36928     \n",
            "_________________________________________________________________\n",
            "max_pooling2d_2 (MaxPooling2 (None, 2, 2, 64)          0         \n",
            "_________________________________________________________________\n",
            "flatten_1 (Flatten)          (None, 256)               0         \n",
            "_________________________________________________________________\n",
            "dense_5 (Dense)              (None, 64)                16448     \n",
            "_________________________________________________________________\n",
            "dense_6 (Dense)              (None, 10)                650       \n",
            "=================================================================\n",
            "Total params: 73,418\n",
            "Trainable params: 73,418\n",
            "Non-trainable params: 0\n",
            "_________________________________________________________________\n"
          ],
          "name": "stdout"
        },
        {
          "output_type": "display_data",
          "data": {
            "text/plain": [
              "<Figure size 432x288 with 0 Axes>"
            ]
          },
          "metadata": {
            "tags": []
          }
        },
        {
          "output_type": "display_data",
          "data": {
            "image/png": "[encoded data removed]",
            "text/plain": [
              "<Figure size 432x288 with 1 Axes>"
            ]
          },
          "metadata": {
            "tags": []
          }
        },
        {
          "output_type": "display_data",
          "data": {
            "text/plain": [
              "<Figure size 432x288 with 0 Axes>"
            ]
          },
          "metadata": {
            "tags": []
          }
        },
        {
          "output_type": "display_data",
          "data": {
            "image/png": "[encoded data removed]",
            "text/plain": [
              "<Figure size 432x288 with 1 Axes>"
            ]
          },
          "metadata": {
            "tags": []
          }
        }
      ]
    }
  ]
}